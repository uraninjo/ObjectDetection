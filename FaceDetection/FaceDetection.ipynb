{
 "cells": [
  {
   "cell_type": "markdown",
   "metadata": {},
   "source": [
    "# 1. Setup\n"
   ]
  },
  {
   "cell_type": "code",
   "execution_count": null,
   "metadata": {},
   "outputs": [],
   "source": [
    "!pip install labelme tensorflow tensorflow-gpu albumentations matplotlib opencv-python"
   ]
  },
  {
   "cell_type": "code",
   "execution_count": 6,
   "metadata": {},
   "outputs": [],
   "source": [
    "import os,time,uuid,cv2\n",
    "\n",
    "IMAGES_PATH = os.path.join('data','images')\n",
    "number_images = 30"
   ]
  },
  {
   "cell_type": "code",
   "execution_count": 8,
   "metadata": {},
   "outputs": [
    {
     "name": "stdout",
     "output_type": "stream",
     "text": [
      "Collecting image 0\n",
      "Collecting image 1\n",
      "Collecting image 2\n",
      "Collecting image 3\n",
      "Collecting image 4\n",
      "Collecting image 5\n",
      "Collecting image 6\n",
      "Collecting image 7\n",
      "Collecting image 8\n",
      "Collecting image 9\n",
      "Collecting image 10\n",
      "Collecting image 11\n",
      "Collecting image 12\n",
      "Collecting image 13\n",
      "Collecting image 14\n",
      "Collecting image 15\n",
      "Collecting image 16\n",
      "Collecting image 17\n",
      "Collecting image 18\n",
      "Collecting image 19\n",
      "Collecting image 20\n",
      "Collecting image 21\n",
      "Collecting image 22\n",
      "Collecting image 23\n",
      "Collecting image 24\n",
      "Collecting image 25\n",
      "Collecting image 26\n",
      "Collecting image 27\n",
      "Collecting image 28\n",
      "Collecting image 29\n"
     ]
    }
   ],
   "source": [
    "cap = cv2.VideoCapture(0)\n",
    "for imgnum in range(number_images):\n",
    "    print('Collecting image {}'.format(imgnum))\n",
    "    ret, frame = cap.read()\n",
    "    imgname = os.path.join(IMAGES_PATH,f'{str(uuid.uuid1())}.jpg')\n",
    "    cv2.imwrite(imgname, frame)\n",
    "    cv2.imshow('frame', frame)\n",
    "    time.sleep(0.5)\n",
    "\n",
    "    if cv2.waitKey(1) & 0xFF == ord('q'):\n",
    "        break\n",
    "cap.release()\n",
    "cv2.destroyAllWindows()"
   ]
  },
  {
   "cell_type": "code",
   "execution_count": 9,
   "metadata": {},
   "outputs": [
    {
     "name": "stderr",
     "output_type": "stream",
     "text": [
      "[INFO   ] __init__:get_config:70 - Loading config file from: C:\\Users\\mehmu\\.labelmerc\n",
      "2022-08-10T09:30:21.920ZE [35928:ShellIpcClient] shell_ipc_client.cc:129:Connect Can't connect to socket at: \\\\.\\Pipe\\GoogleDriveFSPipe_mehmu_shell\n",
      "2022-08-10T09:30:21.924ZE [35928:ShellIpcClient] shell_ipc_client.cc:602:operator() Failed to connect to the server: Status::UNAVAILABLE_RESOURCE\n",
      "2022-08-10T09:30:21.924ZE [35928:ShellIpcClient] shell_ipc_client.cc:129:Connect Can't connect to socket at: \\\\.\\Pipe\\GoogleDriveFSPipe_mehmu_shell\n",
      "2022-08-10T09:30:21.924ZE [35928:ShellIpcClient] shell_ipc_client.cc:602:operator() Failed to connect to the server: Status::UNAVAILABLE_RESOURCE\n",
      "2022-08-10T09:30:21.924ZE [2940:ShellIpcClient] shell_ipc_client.cc:129:Connect Can't connect to socket at: \\\\.\\Pipe\\GoogleDriveFSPipe_mehmu_shell\n",
      "2022-08-10T09:30:21.924ZE [2940:ShellIpcClient] shell_ipc_client.cc:602:operator() Failed to connect to the server: Status::UNAVAILABLE_RESOURCE\n",
      "2022-08-10T09:30:21.924ZE [35928:ShellIpcClient] shell_ipc_client.cc:129:Connect Can't connect to socket at: \\\\.\\Pipe\\GoogleDriveFSPipe_mehmu_shell\n",
      "2022-08-10T09:30:21.925ZE [35928:ShellIpcClient] shell_ipc_client.cc:602:operator() Failed to connect to the server: Status::UNAVAILABLE_RESOURCE\n",
      "2022-08-10T09:30:21.925ZE [2940:ShellIpcClient] shell_ipc_client.cc:129:Connect Can't connect to socket at: \\\\.\\Pipe\\GoogleDriveFSPipe_mehmu_shell\n",
      "2022-08-10T09:30:21.925ZE [35928:ShellIpcClient] shell_ipc_client.cc:129:Connect Can't connect to socket at: \\\\.\\Pipe\\GoogleDriveFSPipe_mehmu_shell\n",
      "2022-08-10T09:30:21.925ZE [35928:ShellIpcClient] shell_ipc_client.cc:602:operator() Failed to connect to the server: Status::UNAVAILABLE_RESOURCE\n",
      "2022-08-10T09:30:21.925ZE [2940:ShellIpcClient] shell_ipc_client.cc:602:operator() Failed to connect to the server: Status::UNAVAILABLE_RESOURCE\n",
      "2022-08-10T09:30:21.925ZE [27416:ShellIpcClient] shell_ipc_client.cc:129:Connect Can't connect to socket at: \\\\.\\Pipe\\GoogleDriveFSPipe_mehmu_shell\n",
      "2022-08-10T09:30:21.925ZE [2940:ShellIpcClient] shell_ipc_client.cc:129:Connect Can't connect to socket at: \\\\.\\Pipe\\GoogleDriveFSPipe_mehmu_shell\n",
      "2022-08-10T09:30:21.925ZE [2940:ShellIpcClient] shell_ipc_client.cc:602:operator() Failed to connect to the server: Status::UNAVAILABLE_RESOURCE\n",
      "2022-08-10T09:30:21.925ZE [27416:ShellIpcClient] shell_ipc_client.cc:602:operator() Failed to connect to the server: Status::UNAVAILABLE_RESOURCE\n",
      "2022-08-10T09:30:21.925ZE [2940:ShellIpcClient] shell_ipc_client.cc:129:Connect Can't connect to socket at: \\\\.\\Pipe\\GoogleDriveFSPipe_mehmu_shell\n",
      "2022-08-10T09:30:21.925ZE [2940:ShellIpcClient] shell_ipc_client.cc:602:operator() Failed to connect to the server: Status::UNAVAILABLE_RESOURCE\n",
      "2022-08-10T09:30:21.925ZE [27416:ShellIpcClient] shell_ipc_client.cc:129:Connect Can't connect to socket at: \\\\.\\Pipe\\GoogleDriveFSPipe_mehmu_shell\n",
      "2022-08-10T09:30:21.925ZE [27416:ShellIpcClient] shell_ipc_client.cc:602:operator() Failed to connect to the server: Status::UNAVAILABLE_RESOURCE\n",
      "2022-08-10T09:30:21.925ZE [27416:ShellIpcClient] shell_ipc_client.cc:129:Connect Can't connect to socket at: \\\\.\\Pipe\\GoogleDriveFSPipe_mehmu_shell\n",
      "2022-08-10T09:30:21.925ZE [27416:ShellIpcClient] shell_ipc_client.cc:602:operator() Failed to connect to the server: Status::UNAVAILABLE_RESOURCE\n",
      "2022-08-10T09:30:21.925ZE [27416:ShellIpcClient] shell_ipc_client.cc:129:Connect Can't connect to socket at: \\\\.\\Pipe\\GoogleDriveFSPipe_mehmu_shell\n",
      "2022-08-10T09:30:21.925ZE [27416:ShellIpcClient] shell_ipc_client.cc:602:operator() Failed to connect to the server: Status::UNAVAILABLE_RESOURCE\n",
      "2022-08-10T09:30:21.925ZE [35928:ShellIpcClient] shell_ipc_client.cc:129:Connect Can't connect to socket at: \\\\.\\Pipe\\GoogleDriveFSPipe_mehmu_shell\n",
      "2022-08-10T09:30:21.925ZE [35928:ShellIpcClient] shell_ipc_client.cc:602:operator() Failed to connect to the server: Status::UNAVAILABLE_RESOURCE\n",
      "2022-08-10T09:30:21.925ZE [35928:ShellIpcClient] shell_ipc_client.cc:129:Connect Can't connect to socket at: \\\\.\\Pipe\\GoogleDriveFSPipe_mehmu_shell\n",
      "2022-08-10T09:30:21.925ZE [35928:ShellIpcClient] shell_ipc_client.cc:602:operator() Failed to connect to the server: Status::UNAVAILABLE_RESOURCE\n",
      "2022-08-10T09:30:21.925ZE [2940:ShellIpcClient] shell_ipc_client.cc:129:Connect Can't connect to socket at: \\\\.\\Pipe\\GoogleDriveFSPipe_mehmu_shell\n",
      "2022-08-10T09:30:21.925ZE [2940:ShellIpcClient] shell_ipc_client.cc:602:operator() Failed to connect to the server: Status::UNAVAILABLE_RESOURCE\n",
      "2022-08-10T09:30:21.925ZE [2940:ShellIpcClient] shell_ipc_client.cc:129:Connect Can't connect to socket at: \\\\.\\Pipe\\GoogleDriveFSPipe_mehmu_shell\n",
      "2022-08-10T09:30:21.925ZE [2940:ShellIpcClient] shell_ipc_client.cc:602:operator() Failed to connect to the server: Status::UNAVAILABLE_RESOURCE\n",
      "2022-08-10T09:30:21.925ZE [27416:ShellIpcClient] shell_ipc_client.cc:129:Connect Can't connect to socket at: \\\\.\\Pipe\\GoogleDriveFSPipe_mehmu_shell\n",
      "2022-08-10T09:30:21.925ZE [27416:ShellIpcClient] shell_ipc_client.cc:602:operator() Failed to connect to the server: Status::UNAVAILABLE_RESOURCE\n",
      "2022-08-10T09:30:21.925ZE [27416:ShellIpcClient] shell_ipc_client.cc:129:Connect Can't connect to socket at: \\\\.\\Pipe\\GoogleDriveFSPipe_mehmu_shell\n",
      "2022-08-10T09:30:21.925ZE [27416:ShellIpcClient] shell_ipc_client.cc:602:operator() Failed to connect to the server: Status::UNAVAILABLE_RESOURCE\n",
      "2022-08-10T09:30:22.884ZE [35928:ShellIpcClient] shell_ipc_client.cc:129:Connect Can't connect to socket at: \\\\.\\Pipe\\GoogleDriveFSPipe_mehmu_shell\n",
      "2022-08-10T09:30:22.884ZE [35928:ShellIpcClient] shell_ipc_client.cc:602:operator() Failed to connect to the server: Status::UNAVAILABLE_RESOURCE\n",
      "2022-08-10T09:30:22.884ZE [2940:ShellIpcClient] shell_ipc_client.cc:129:Connect Can't connect to socket at: \\\\.\\Pipe\\GoogleDriveFSPipe_mehmu_shell\n",
      "2022-08-10T09:30:22.884ZE [2940:ShellIpcClient] shell_ipc_client.cc:602:operator() Failed to connect to the server: Status::UNAVAILABLE_RESOURCE\n",
      "2022-08-10T09:30:22.884ZE [27416:ShellIpcClient] shell_ipc_client.cc:129:Connect Can't connect to socket at: \\\\.\\Pipe\\GoogleDriveFSPipe_mehmu_shell\n",
      "2022-08-10T09:30:22.884ZE [27416:ShellIpcClient] shell_ipc_client.cc:602:operator() Failed to connect to the server: Status::UNAVAILABLE_RESOURCE\n",
      "2022-08-10T09:31:37.460ZE [35928:ShellIpcClient] shell_ipc_client.cc:129:Connect Can't connect to socket at: \\\\.\\Pipe\\GoogleDriveFSPipe_mehmu_shell\n",
      "2022-08-10T09:31:37.460ZE [35928:ShellIpcClient] shell_ipc_client.cc:602:operator() Failed to connect to the server: Status::UNAVAILABLE_RESOURCE\n",
      "2022-08-10T09:31:37.460ZE [2940:ShellIpcClient] shell_ipc_client.cc:129:Connect Can't connect to socket at: \\\\.\\Pipe\\GoogleDriveFSPipe_mehmu_shell\n",
      "2022-08-10T09:31:37.460ZE [2940:ShellIpcClient] shell_ipc_client.cc:602:operator() Failed to connect to the server: Status::UNAVAILABLE_RESOURCE\n",
      "2022-08-10T09:31:37.460ZE [27416:ShellIpcClient] shell_ipc_client.cc:129:Connect Can't connect to socket at: \\\\.\\Pipe\\GoogleDriveFSPipe_mehmu_shell\n",
      "2022-08-10T09:31:37.460ZE [27416:ShellIpcClient] shell_ipc_client.cc:602:operator() Failed to connect to the server: Status::UNAVAILABLE_RESOURCE\n",
      "2022-08-10T09:31:37.460ZE [35928:ShellIpcClient] shell_ipc_client.cc:129:Connect Can't connect to socket at: \\\\.\\Pipe\\GoogleDriveFSPipe_mehmu_shell\n",
      "2022-08-10T09:31:37.460ZE [35928:ShellIpcClient] shell_ipc_client.cc:602:operator() Failed to connect to the server: Status::UNAVAILABLE_RESOURCE\n",
      "2022-08-10T09:31:37.460ZE [2940:ShellIpcClient] shell_ipc_client.cc:129:Connect Can't connect to socket at: \\\\.\\Pipe\\GoogleDriveFSPipe_mehmu_shell\n",
      "2022-08-10T09:31:37.460ZE [2940:ShellIpcClient] shell_ipc_client.cc:602:operator() Failed to connect to the server: Status::UNAVAILABLE_RESOURCE\n",
      "2022-08-10T09:31:37.460ZE [27416:ShellIpcClient] shell_ipc_client.cc:129:Connect Can't connect to socket at: \\\\.\\Pipe\\GoogleDriveFSPipe_mehmu_shell\n",
      "2022-08-10T09:31:37.460ZE [27416:ShellIpcClient] shell_ipc_client.cc:602:operator() Failed to connect to the server: Status::UNAVAILABLE_RESOURCE\n",
      "2022-08-10T09:31:37.461ZE [35928:ShellIpcClient] shell_ipc_client.cc:129:Connect Can't connect to socket at: \\\\.\\Pipe\\GoogleDriveFSPipe_mehmu_shell\n",
      "2022-08-10T09:31:37.461ZE [35928:ShellIpcClient] shell_ipc_client.cc:602:operator() Failed to connect to the server: Status::UNAVAILABLE_RESOURCE\n",
      "2022-08-10T09:31:37.461ZE [2940:ShellIpcClient] shell_ipc_client.cc:129:Connect Can't connect to socket at: \\\\.\\Pipe\\GoogleDriveFSPipe_mehmu_shell\n",
      "2022-08-10T09:31:37.461ZE [2940:ShellIpcClient] shell_ipc_client.cc:602:operator() Failed to connect to the server: Status::UNAVAILABLE_RESOURCE\n",
      "2022-08-10T09:31:37.461ZE [27416:ShellIpcClient] shell_ipc_client.cc:129:Connect Can't connect to socket at: \\\\.\\Pipe\\GoogleDriveFSPipe_mehmu_shell\n",
      "2022-08-10T09:31:37.461ZE [27416:ShellIpcClient] shell_ipc_client.cc:602:operator() Failed to connect to the server: Status::UNAVAILABLE_RESOURCE\n",
      "2022-08-10T09:31:37.461ZE [35928:ShellIpcClient] shell_ipc_client.cc:129:Connect Can't connect to socket at: \\\\.\\Pipe\\GoogleDriveFSPipe_mehmu_shell\n",
      "2022-08-10T09:31:37.461ZE [35928:ShellIpcClient] shell_ipc_client.cc:602:operator() Failed to connect to the server: Status::UNAVAILABLE_RESOURCE\n",
      "2022-08-10T09:31:37.461ZE [2940:ShellIpcClient] shell_ipc_client.cc:129:Connect Can't connect to socket at: \\\\.\\Pipe\\GoogleDriveFSPipe_mehmu_shell\n",
      "2022-08-10T09:31:37.461ZE [2940:ShellIpcClient] shell_ipc_client.cc:602:operator() Failed to connect to the server: Status::UNAVAILABLE_RESOURCE\n",
      "2022-08-10T09:31:37.461ZE [27416:ShellIpcClient] shell_ipc_client.cc:129:Connect Can't connect to socket at: \\\\.\\Pipe\\GoogleDriveFSPipe_mehmu_shell\n",
      "2022-08-10T09:31:37.461ZE [27416:ShellIpcClient] shell_ipc_client.cc:602:operator() Failed to connect to the server: Status::UNAVAILABLE_RESOURCE\n",
      "2022-08-10T09:31:37.462ZE [35928:ShellIpcClient] shell_ipc_client.cc:129:Connect Can't connect to socket at: \\\\.\\Pipe\\GoogleDriveFSPipe_mehmu_shell\n",
      "2022-08-10T09:31:37.462ZE [35928:ShellIpcClient] shell_ipc_client.cc:602:operator() Failed to connect to the server: Status::UNAVAILABLE_RESOURCE\n",
      "2022-08-10T09:31:37.462ZE [2940:ShellIpcClient] shell_ipc_client.cc:129:Connect Can't connect to socket at: \\\\.\\Pipe\\GoogleDriveFSPipe_mehmu_shell\n",
      "2022-08-10T09:31:37.462ZE [2940:ShellIpcClient] shell_ipc_client.cc:602:operator() Failed to connect to the server: Status::UNAVAILABLE_RESOURCE\n",
      "2022-08-10T09:31:37.462ZE [27416:ShellIpcClient] shell_ipc_client.cc:129:Connect Can't connect to socket at: \\\\.\\Pipe\\GoogleDriveFSPipe_mehmu_shell\n",
      "2022-08-10T09:31:37.462ZE [27416:ShellIpcClient] shell_ipc_client.cc:602:operator() Failed to connect to the server: Status::UNAVAILABLE_RESOURCE\n",
      "2022-08-10T09:31:41.131ZE [35928:ShellIpcClient] shell_ipc_client.cc:129:Connect Can't connect to socket at: \\\\.\\Pipe\\GoogleDriveFSPipe_mehmu_shell\n",
      "2022-08-10T09:31:41.131ZE [35928:ShellIpcClient] shell_ipc_client.cc:602:operator() Failed to connect to the server: Status::UNAVAILABLE_RESOURCE\n",
      "2022-08-10T09:31:41.131ZE [2940:ShellIpcClient] shell_ipc_client.cc:129:Connect Can't connect to socket at: \\\\.\\Pipe\\GoogleDriveFSPipe_mehmu_shell\n",
      "2022-08-10T09:31:41.131ZE [2940:ShellIpcClient] shell_ipc_client.cc:602:operator() Failed to connect to the server: Status::UNAVAILABLE_RESOURCE\n",
      "2022-08-10T09:31:41.131ZE [27416:ShellIpcClient] shell_ipc_client.cc:129:Connect Can't connect to socket at: \\\\.\\Pipe\\GoogleDriveFSPipe_mehmu_shell\n",
      "2022-08-10T09:31:41.131ZE [27416:ShellIpcClient] shell_ipc_client.cc:602:operator() Failed to connect to the server: Status::UNAVAILABLE_RESOURCE\n",
      "2022-08-10T09:31:47.608ZE [35928:ShellIpcClient] shell_ipc_client.cc:129:Connect Can't connect to socket at: \\\\.\\Pipe\\GoogleDriveFSPipe_mehmu_shell\n",
      "2022-08-10T09:31:47.608ZE [35928:ShellIpcClient] shell_ipc_client.cc:602:operator() Failed to connect to the server: Status::UNAVAILABLE_RESOURCE\n",
      "2022-08-10T09:31:47.608ZE [2940:ShellIpcClient] shell_ipc_client.cc:129:Connect Can't connect to socket at: \\\\.\\Pipe\\GoogleDriveFSPipe_mehmu_shell\n",
      "2022-08-10T09:31:47.608ZE [2940:ShellIpcClient] shell_ipc_client.cc:602:operator() Failed to connect to the server: Status::UNAVAILABLE_RESOURCE\n",
      "2022-08-10T09:31:47.608ZE [27416:ShellIpcClient] shell_ipc_client.cc:129:Connect Can't connect to socket at: \\\\.\\Pipe\\GoogleDriveFSPipe_mehmu_shell\n",
      "2022-08-10T09:31:47.608ZE [27416:ShellIpcClient] shell_ipc_client.cc:602:operator() Failed to connect to the server: Status::UNAVAILABLE_RESOURCE\n",
      "2022-08-10T09:31:47.649ZE [35928:ShellIpcClient] shell_ipc_client.cc:129:Connect Can't connect to socket at: \\\\.\\Pipe\\GoogleDriveFSPipe_mehmu_shell\n",
      "2022-08-10T09:31:47.649ZE [35928:ShellIpcClient] shell_ipc_client.cc:602:operator() Failed to connect to the server: Status::UNAVAILABLE_RESOURCE\n",
      "2022-08-10T09:31:47.649ZE [2940:ShellIpcClient] shell_ipc_client.cc:129:Connect Can't connect to socket at: \\\\.\\Pipe\\GoogleDriveFSPipe_mehmu_shell\n",
      "2022-08-10T09:31:47.649ZE [2940:ShellIpcClient] shell_ipc_client.cc:602:operator() Failed to connect to the server: Status::UNAVAILABLE_RESOURCE\n",
      "2022-08-10T09:31:47.649ZE [35928:ShellIpcClient] shell_ipc_client.cc:129:Connect Can't connect to socket at: \\\\.\\Pipe\\GoogleDriveFSPipe_mehmu_shell\n",
      "2022-08-10T09:31:47.649ZE [35928:ShellIpcClient] shell_ipc_client.cc:602:operator() Failed to connect to the server: Status::UNAVAILABLE_RESOURCE\n",
      "2022-08-10T09:31:47.649ZE [27416:ShellIpcClient] shell_ipc_client.cc:129:Connect Can't connect to socket at: \\\\.\\Pipe\\GoogleDriveFSPipe_mehmu_shell\n",
      "2022-08-10T09:31:47.650ZE [27416:ShellIpcClient] shell_ipc_client.cc:602:operator() Failed to connect to the server: Status::UNAVAILABLE_RESOURCE\n",
      "2022-08-10T09:31:47.650ZE [2940:ShellIpcClient] shell_ipc_client.cc:129:Connect Can't connect to socket at: \\\\.\\Pipe\\GoogleDriveFSPipe_mehmu_shell\n",
      "2022-08-10T09:31:47.650ZE [2940:ShellIpcClient] shell_ipc_client.cc:602:operator() Failed to connect to the server: Status::UNAVAILABLE_RESOURCE\n",
      "2022-08-10T09:31:47.650ZE [27416:ShellIpcClient] shell_ipc_client.cc:129:Connect Can't connect to socket at: \\\\.\\Pipe\\GoogleDriveFSPipe_mehmu_shell\n",
      "2022-08-10T09:31:47.650ZE [27416:ShellIpcClient] shell_ipc_client.cc:602:operator() Failed to connect to the server: Status::UNAVAILABLE_RESOURCE\n",
      "2022-08-10T09:31:50.591ZE [35928:ShellIpcClient] shell_ipc_client.cc:129:Connect Can't connect to socket at: \\\\.\\Pipe\\GoogleDriveFSPipe_mehmu_shell\n",
      "2022-08-10T09:31:50.591ZE [35928:ShellIpcClient] shell_ipc_client.cc:602:operator() Failed to connect to the server: Status::UNAVAILABLE_RESOURCE\n",
      "2022-08-10T09:31:50.591ZE [2940:ShellIpcClient] shell_ipc_client.cc:129:Connect Can't connect to socket at: \\\\.\\Pipe\\GoogleDriveFSPipe_mehmu_shell\n",
      "2022-08-10T09:31:50.591ZE [2940:ShellIpcClient] shell_ipc_client.cc:602:operator() Failed to connect to the server: Status::UNAVAILABLE_RESOURCE\n",
      "2022-08-10T09:31:50.591ZE [27416:ShellIpcClient] shell_ipc_client.cc:129:Connect Can't connect to socket at: \\\\.\\Pipe\\GoogleDriveFSPipe_mehmu_shell\n",
      "2022-08-10T09:31:50.591ZE [27416:ShellIpcClient] shell_ipc_client.cc:602:operator() Failed to connect to the server: Status::UNAVAILABLE_RESOURCE\n",
      "2022-08-10T09:31:50.595ZE [35928:ShellIpcClient] shell_ipc_client.cc:129:Connect Can't connect to socket at: \\\\.\\Pipe\\GoogleDriveFSPipe_mehmu_shell\n",
      "2022-08-10T09:31:50.595ZE [35928:ShellIpcClient] shell_ipc_client.cc:602:operator() Failed to connect to the server: Status::UNAVAILABLE_RESOURCE\n",
      "2022-08-10T09:31:50.595ZE [2940:ShellIpcClient] shell_ipc_client.cc:129:Connect Can't connect to socket at: \\\\.\\Pipe\\GoogleDriveFSPipe_mehmu_shell\n",
      "2022-08-10T09:31:50.595ZE [2940:ShellIpcClient] shell_ipc_client.cc:602:operator() Failed to connect to the server: Status::UNAVAILABLE_RESOURCE\n",
      "2022-08-10T09:31:50.596ZE [27416:ShellIpcClient] shell_ipc_client.cc:129:Connect Can't connect to socket at: \\\\.\\Pipe\\GoogleDriveFSPipe_mehmu_shell\n",
      "2022-08-10T09:31:50.596ZE [27416:ShellIpcClient] shell_ipc_client.cc:602:operator() Failed to connect to the server: Status::UNAVAILABLE_RESOURCE\n"
     ]
    }
   ],
   "source": [
    "!labelme"
   ]
  },
  {
   "cell_type": "markdown",
   "metadata": {},
   "source": [
    "# 2. Loading Images "
   ]
  },
  {
   "cell_type": "code",
   "execution_count": 14,
   "metadata": {},
   "outputs": [],
   "source": [
    "import tensorflow as tf\n",
    "import numpy as np\n",
    "import matplotlib.pyplot as plt\n",
    "import json\n",
    "import warnings\n",
    "warnings.filterwarnings(\"ignore\")"
   ]
  },
  {
   "cell_type": "code",
   "execution_count": 15,
   "metadata": {},
   "outputs": [
    {
     "data": {
      "text/plain": [
       "True"
      ]
     },
     "execution_count": 15,
     "metadata": {},
     "output_type": "execute_result"
    }
   ],
   "source": [
    "gpus = tf.config.experimental.list_physical_devices('GPU')\n",
    "for gpu in gpus: \n",
    "    tf.config.experimental.set_memory_growth(gpu, True)\n",
    "tf.test.is_gpu_available()"
   ]
  },
  {
   "cell_type": "code",
   "execution_count": 24,
   "metadata": {},
   "outputs": [],
   "source": [
    "images=tf.data.Dataset.list_files('data/images/*.jpg',shuffle=False)"
   ]
  },
  {
   "cell_type": "code",
   "execution_count": 25,
   "metadata": {},
   "outputs": [],
   "source": [
    "def load_img(x):\n",
    "    byte=tf.io.read_file(x)\n",
    "    img=tf.io.decode_jpeg(byte)\n",
    "    return img"
   ]
  },
  {
   "cell_type": "code",
   "execution_count": 26,
   "metadata": {},
   "outputs": [
    {
     "data": {
      "text/plain": [
       "array([[[134, 145, 129],\n",
       "        [136, 147, 131],\n",
       "        [134, 145, 129],\n",
       "        ...,\n",
       "        [175, 193, 205],\n",
       "        [176, 194, 208],\n",
       "        [177, 195, 209]],\n",
       "\n",
       "       [[133, 144, 128],\n",
       "        [135, 146, 130],\n",
       "        [137, 148, 132],\n",
       "        ...,\n",
       "        [176, 194, 206],\n",
       "        [174, 192, 204],\n",
       "        [171, 189, 201]],\n",
       "\n",
       "       [[136, 147, 133],\n",
       "        [137, 148, 134],\n",
       "        [139, 150, 136],\n",
       "        ...,\n",
       "        [175, 195, 204],\n",
       "        [174, 192, 202],\n",
       "        [171, 189, 199]],\n",
       "\n",
       "       ...,\n",
       "\n",
       "       [[110, 112, 101],\n",
       "        [107, 109,  98],\n",
       "        [106, 108,  97],\n",
       "        ...,\n",
       "        [118, 130, 130],\n",
       "        [116, 126, 125],\n",
       "        [118, 128, 127]],\n",
       "\n",
       "       [[107, 110,  99],\n",
       "        [103, 106,  95],\n",
       "        [103, 105,  92],\n",
       "        ...,\n",
       "        [115, 127, 127],\n",
       "        [111, 121, 122],\n",
       "        [112, 122, 123]],\n",
       "\n",
       "       [[ 99, 102,  91],\n",
       "        [ 97, 100,  89],\n",
       "        [100, 102,  89],\n",
       "        ...,\n",
       "        [114, 126, 126],\n",
       "        [110, 120, 121],\n",
       "        [110, 120, 121]]], dtype=uint8)"
      ]
     },
     "execution_count": 26,
     "metadata": {},
     "output_type": "execute_result"
    }
   ],
   "source": [
    "images=images.map(load_img)\n",
    "images.as_numpy_iterator().next()"
   ]
  },
  {
   "cell_type": "code",
   "execution_count": null,
   "metadata": {},
   "outputs": [],
   "source": [
    "img_gen=images.batch(4).as_numpy_iterator()\n",
    "plot_img=img_gen.next()\n",
    "\n",
    "fig,ax=plt.subplots(ncols=4,figsize=(20,20))\n",
    "for idx,image in enumerate(plot_img):\n",
    "    ax[idx].imshow(image)\n",
    "plt.show()"
   ]
  },
  {
   "cell_type": "code",
   "execution_count": 32,
   "metadata": {},
   "outputs": [],
   "source": [
    "for folder in ['train','test','val']:\n",
    "    for file in os.listdir(os.path.join('data', folder, 'images')):\n",
    "        \n",
    "        filename = file.split('.')[0]+'.json'\n",
    "        existing_filepath = os.path.join('data','labels', filename)\n",
    "        if os.path.exists(existing_filepath): \n",
    "            new_filepath = os.path.join('data',folder,'labels',filename)\n",
    "            os.replace(existing_filepath, new_filepath)      "
   ]
  },
  {
   "cell_type": "markdown",
   "metadata": {},
   "source": [
    "# 3. Augmentation"
   ]
  },
  {
   "cell_type": "code",
   "execution_count": 37,
   "metadata": {},
   "outputs": [],
   "source": [
    "import albumentations as alb\n",
    "\n",
    "augmentor = alb.Compose([alb.RandomCrop(width=450, height=450), \n",
    "                        alb.HorizontalFlip(p=0.5), \n",
    "                        alb.RandomBrightnessContrast(p=0.2),\n",
    "                        alb.RandomGamma(p=0.2), \n",
    "                        alb.RGBShift(p=0.2), \n",
    "                        alb.VerticalFlip(p=0.5)], \n",
    "                        bbox_params=alb.BboxParams(format='albumentations', label_fields=['class_labels']))"
   ]
  },
  {
   "cell_type": "code",
   "execution_count": 38,
   "metadata": {},
   "outputs": [
    {
     "data": {
      "text/plain": [
       "[[204.74358974358972, 42.05128205128205], [398.0769230769231, 300.0]]"
      ]
     },
     "execution_count": 38,
     "metadata": {},
     "output_type": "execute_result"
    }
   ],
   "source": [
    "img = cv2.imread(os.path.join('data','train', 'images','00cb37ad-188f-11ed-b62e-38fc98c566e1.jpg'))\n",
    "\n",
    "with open(os.path.join('data', 'train', 'labels', '00cb37ad-188f-11ed-b62e-38fc98c566e1.json'), 'r') as f:\n",
    "    label = json.load(f)\n",
    "label['shapes'][0]['points']"
   ]
  },
  {
   "cell_type": "code",
   "execution_count": 39,
   "metadata": {},
   "outputs": [
    {
     "data": {
      "text/plain": [
       "[204.74358974358972, 42.05128205128205, 398.0769230769231, 300.0]"
      ]
     },
     "execution_count": 39,
     "metadata": {},
     "output_type": "execute_result"
    }
   ],
   "source": [
    "coords = [0,0,0,0]\n",
    "coords[0] = label['shapes'][0]['points'][0][0]\n",
    "coords[1] = label['shapes'][0]['points'][0][1]\n",
    "coords[2] = label['shapes'][0]['points'][1][0]\n",
    "coords[3] = label['shapes'][0]['points'][1][1]\n",
    "coords"
   ]
  },
  {
   "cell_type": "code",
   "execution_count": 40,
   "metadata": {},
   "outputs": [
    {
     "data": {
      "text/plain": [
       "[0.3199118589743589, 0.0876068376068376, 0.6219951923076923, 0.625]"
      ]
     },
     "execution_count": 40,
     "metadata": {},
     "output_type": "execute_result"
    }
   ],
   "source": [
    "coords = list(np.divide(coords, [640,480,640,480]))\n",
    "coords"
   ]
  },
  {
   "cell_type": "code",
   "execution_count": null,
   "metadata": {},
   "outputs": [],
   "source": [
    "augmented = augmentor(image=img, bboxes=[coords], class_labels=['face'])\n",
    "\n",
    "cv2.rectangle(augmented['image'], \n",
    "                tuple(np.multiply(augmented['bboxes'][0][:2], [450,450]).astype(int)),\n",
    "                tuple(np.multiply(augmented['bboxes'][0][2:], [450,450]).astype(int)), \n",
    "                (255,0,0), 2)\n",
    "\n",
    "plt.imshow(augmented['image'])"
   ]
  },
  {
   "cell_type": "code",
   "execution_count": 43,
   "metadata": {},
   "outputs": [
    {
     "name": "stdout",
     "output_type": "stream",
     "text": [
      "x_max is less than or equal to x_min for bbox [0.8864182692307694, 0.4829059829059829, 0.6115785256410257, 0.007478632478632479, 'face'].\n"
     ]
    }
   ],
   "source": [
    "for partition in ['train','test','val']: \n",
    "    for image in os.listdir(os.path.join('data', partition, 'images')):\n",
    "        img = cv2.imread(os.path.join('data', partition, 'images', image))\n",
    "\n",
    "        coords = [0,0,0.00001,0.00001]      # default annotation for images which doesn't involve face\n",
    "        label_path = os.path.join('data', partition, 'labels', f'{image.split(\".\")[0]}.json')\n",
    "        if os.path.exists(label_path):\n",
    "            with open(label_path, 'r') as f:\n",
    "                label = json.load(f)\n",
    "\n",
    "            coords[0] = label['shapes'][0]['points'][0][0]\n",
    "            coords[1] = label['shapes'][0]['points'][0][1]\n",
    "            coords[2] = label['shapes'][0]['points'][1][0]\n",
    "            coords[3] = label['shapes'][0]['points'][1][1]\n",
    "            coords = list(np.divide(coords, [640,480,640,480]))\n",
    "\n",
    "        try: \n",
    "            for x in range(60):         #augment per image\n",
    "                augmented = augmentor(image=img, bboxes=[coords], class_labels=['face'])\n",
    "                cv2.imwrite(os.path.join('aug_data', partition, 'images', f'{image.split(\".\")[0]}.{x}.jpg'), augmented['image'])\n",
    "\n",
    "                annotation = {}\n",
    "                annotation['image'] = image\n",
    "\n",
    "                if os.path.exists(label_path):\n",
    "                    if len(augmented['bboxes']) == 0: \n",
    "                        annotation['bbox'] = [0,0,0,0]\n",
    "                        annotation['class'] = 0 \n",
    "                    else: \n",
    "                        annotation['bbox'] = augmented['bboxes'][0]\n",
    "                        annotation['class'] = 1\n",
    "                else: \n",
    "                    annotation['bbox'] = [0,0,0,0]\n",
    "                    annotation['class'] = 0 \n",
    "\n",
    "\n",
    "                with open(os.path.join('aug_data', partition, 'labels', f'{image.split(\".\")[0]}.{x}.json'), 'w') as f:\n",
    "                    json.dump(annotation, f)\n",
    "\n",
    "        except Exception as e:\n",
    "            print(e)"
   ]
  },
  {
   "cell_type": "code",
   "execution_count": 44,
   "metadata": {},
   "outputs": [],
   "source": [
    "train_images = tf.data.Dataset.list_files('aug_data\\\\train\\\\images\\\\*.jpg', shuffle=False)\n",
    "train_images = train_images.map(load_img)\n",
    "train_images = train_images.map(lambda x: tf.image.resize(x, (120,120)))\n",
    "train_images = train_images.map(lambda x: x/255)\n",
    "\n",
    "test_images = tf.data.Dataset.list_files('aug_data\\\\test\\\\images\\\\*.jpg', shuffle=False)\n",
    "test_images = test_images.map(load_img)\n",
    "test_images = test_images.map(lambda x: tf.image.resize(x, (120,120)))\n",
    "test_images = test_images.map(lambda x: x/255)\n",
    "\n",
    "val_images = tf.data.Dataset.list_files('aug_data\\\\val\\\\images\\\\*.jpg', shuffle=False)\n",
    "val_images = val_images.map(load_img)\n",
    "val_images = val_images.map(lambda x: tf.image.resize(x, (120,120)))\n",
    "val_images = val_images.map(lambda x: x/255)"
   ]
  },
  {
   "cell_type": "code",
   "execution_count": 45,
   "metadata": {},
   "outputs": [],
   "source": [
    "def load_labels(label_path):\n",
    "    with open(label_path.numpy(), 'r', encoding = \"utf-8\") as f:\n",
    "        label = json.load(f)\n",
    "        \n",
    "    return [label['class']], label['bbox']"
   ]
  },
  {
   "cell_type": "code",
   "execution_count": 46,
   "metadata": {},
   "outputs": [],
   "source": [
    "train_labels = tf.data.Dataset.list_files('aug_data\\\\train\\\\labels\\\\*.json', shuffle=False)\n",
    "train_labels = train_labels.map(lambda x: tf.py_function(load_labels, [x], [tf.uint8, tf.float16]))\n",
    "\n",
    "\n",
    "test_labels = tf.data.Dataset.list_files('aug_data\\\\test\\\\labels\\\\*.json', shuffle=False)\n",
    "test_labels = test_labels.map(lambda x: tf.py_function(load_labels, [x], [tf.uint8, tf.float16]))\n",
    "\n",
    "val_labels = tf.data.Dataset.list_files('aug_data\\\\val\\\\labels\\\\*.json', shuffle=False)\n",
    "val_labels = val_labels.map(lambda x: tf.py_function(load_labels, [x], [tf.uint8, tf.float16]))"
   ]
  },
  {
   "cell_type": "code",
   "execution_count": 48,
   "metadata": {},
   "outputs": [
    {
     "data": {
      "text/plain": [
       "(2640, 2640, 900, 900, 960, 960)"
      ]
     },
     "execution_count": 48,
     "metadata": {},
     "output_type": "execute_result"
    }
   ],
   "source": [
    "len(train_images), len(train_labels), len(test_images), len(test_labels), len(val_images), len(val_labels)"
   ]
  },
  {
   "cell_type": "code",
   "execution_count": 49,
   "metadata": {},
   "outputs": [],
   "source": [
    "train = tf.data.Dataset.zip((train_images, train_labels))\n",
    "train = train.shuffle(4000)\n",
    "train = train.batch(8)\n",
    "train = train.prefetch(4)\n",
    "\n",
    "test = tf.data.Dataset.zip((test_images, test_labels))\n",
    "test = test.shuffle(1300)\n",
    "test = test.batch(8)\n",
    "test = test.prefetch(4)\n",
    "\n",
    "val = tf.data.Dataset.zip((val_images, val_labels))\n",
    "val = val.shuffle(1000)\n",
    "val = val.batch(8)\n",
    "val = val.prefetch(4)"
   ]
  },
  {
   "cell_type": "code",
   "execution_count": 53,
   "metadata": {},
   "outputs": [
    {
     "data": {
      "text/plain": [
       "(array([[1],\n",
       "        [1],\n",
       "        [1],\n",
       "        [1],\n",
       "        [1],\n",
       "        [1],\n",
       "        [1],\n",
       "        [1]], dtype=uint8),\n",
       " array([[0.4011 , 0.425  , 0.8604 , 0.899  ],\n",
       "        [0.1555 , 0.02348, 0.633  , 0.6777 ],\n",
       "        [0.4006 , 0.4585 , 0.7617 , 0.948  ],\n",
       "        [0.204  , 0.09644, 0.663  , 0.5703 ],\n",
       "        [0.2303 , 0.09375, 0.6177 , 0.438  ],\n",
       "        [0.2568 , 0.4133 , 0.713  , 0.9556 ],\n",
       "        [0.2617 , 0.11743, 0.6353 , 0.612  ],\n",
       "        [0.582  , 0.03995, 1.     , 0.6255 ]], dtype=float16))"
      ]
     },
     "execution_count": 53,
     "metadata": {},
     "output_type": "execute_result"
    }
   ],
   "source": [
    "train.as_numpy_iterator().next()[1]"
   ]
  },
  {
   "cell_type": "markdown",
   "metadata": {},
   "source": [
    "# 4. Model"
   ]
  },
  {
   "cell_type": "code",
   "execution_count": 54,
   "metadata": {},
   "outputs": [
    {
     "name": "stdout",
     "output_type": "stream",
     "text": [
      "Downloading data from https://storage.googleapis.com/tensorflow/keras-applications/vgg16/vgg16_weights_tf_dim_ordering_tf_kernels_notop.h5\n",
      "58889256/58889256 [==============================] - 3s 0us/step\n",
      "Model: \"vgg16\"\n",
      "_________________________________________________________________\n",
      " Layer (type)                Output Shape              Param #   \n",
      "=================================================================\n",
      " input_1 (InputLayer)        [(None, None, None, 3)]   0         \n",
      "                                                                 \n",
      " block1_conv1 (Conv2D)       (None, None, None, 64)    1792      \n",
      "                                                                 \n",
      " block1_conv2 (Conv2D)       (None, None, None, 64)    36928     \n",
      "                                                                 \n",
      " block1_pool (MaxPooling2D)  (None, None, None, 64)    0         \n",
      "                                                                 \n",
      " block2_conv1 (Conv2D)       (None, None, None, 128)   73856     \n",
      "                                                                 \n",
      " block2_conv2 (Conv2D)       (None, None, None, 128)   147584    \n",
      "                                                                 \n",
      " block2_pool (MaxPooling2D)  (None, None, None, 128)   0         \n",
      "                                                                 \n",
      " block3_conv1 (Conv2D)       (None, None, None, 256)   295168    \n",
      "                                                                 \n",
      " block3_conv2 (Conv2D)       (None, None, None, 256)   590080    \n",
      "                                                                 \n",
      " block3_conv3 (Conv2D)       (None, None, None, 256)   590080    \n",
      "                                                                 \n",
      " block3_pool (MaxPooling2D)  (None, None, None, 256)   0         \n",
      "                                                                 \n",
      " block4_conv1 (Conv2D)       (None, None, None, 512)   1180160   \n",
      "                                                                 \n",
      " block4_conv2 (Conv2D)       (None, None, None, 512)   2359808   \n",
      "                                                                 \n",
      " block4_conv3 (Conv2D)       (None, None, None, 512)   2359808   \n",
      "                                                                 \n",
      " block4_pool (MaxPooling2D)  (None, None, None, 512)   0         \n",
      "                                                                 \n",
      " block5_conv1 (Conv2D)       (None, None, None, 512)   2359808   \n",
      "                                                                 \n",
      " block5_conv2 (Conv2D)       (None, None, None, 512)   2359808   \n",
      "                                                                 \n",
      " block5_conv3 (Conv2D)       (None, None, None, 512)   2359808   \n",
      "                                                                 \n",
      " block5_pool (MaxPooling2D)  (None, None, None, 512)   0         \n",
      "                                                                 \n",
      "=================================================================\n",
      "Total params: 14,714,688\n",
      "Trainable params: 14,714,688\n",
      "Non-trainable params: 0\n",
      "_________________________________________________________________\n"
     ]
    }
   ],
   "source": [
    "from tensorflow.keras.models import Model\n",
    "from tensorflow.keras.layers import Input, Conv2D, Dense, GlobalMaxPooling2D\n",
    "from tensorflow.keras.applications import VGG16\n",
    "\n",
    "vgg = VGG16(include_top=False)\n",
    "\n",
    "vgg.summary()"
   ]
  },
  {
   "cell_type": "code",
   "execution_count": 55,
   "metadata": {},
   "outputs": [],
   "source": [
    "def build_model(): \n",
    "    input_layer = Input(shape=(120,120,3))\n",
    "    \n",
    "    vgg = VGG16(include_top=False)(input_layer)\n",
    "\n",
    "    # Classification Model  \n",
    "    f1 = GlobalMaxPooling2D()(vgg)\n",
    "    class1 = Dense(2048, activation='relu')(f1)\n",
    "    class2 = Dense(1, activation='sigmoid')(class1)\n",
    "    \n",
    "    # Bounding box model\n",
    "    f2 = GlobalMaxPooling2D()(vgg)\n",
    "    regress1 = Dense(2048, activation='relu')(f2)\n",
    "    regress2 = Dense(4, activation='sigmoid')(regress1)\n",
    "    \n",
    "    facetracker = Model(inputs=input_layer, outputs=[class2, regress2])\n",
    "    return facetracker"
   ]
  },
  {
   "cell_type": "code",
   "execution_count": 56,
   "metadata": {},
   "outputs": [
    {
     "name": "stdout",
     "output_type": "stream",
     "text": [
      "Model: \"model\"\n",
      "__________________________________________________________________________________________________\n",
      " Layer (type)                   Output Shape         Param #     Connected to                     \n",
      "==================================================================================================\n",
      " input_2 (InputLayer)           [(None, 120, 120, 3  0           []                               \n",
      "                                )]                                                                \n",
      "                                                                                                  \n",
      " vgg16 (Functional)             (None, None, None,   14714688    ['input_2[0][0]']                \n",
      "                                512)                                                              \n",
      "                                                                                                  \n",
      " global_max_pooling2d (GlobalMa  (None, 512)         0           ['vgg16[0][0]']                  \n",
      " xPooling2D)                                                                                      \n",
      "                                                                                                  \n",
      " global_max_pooling2d_1 (Global  (None, 512)         0           ['vgg16[0][0]']                  \n",
      " MaxPooling2D)                                                                                    \n",
      "                                                                                                  \n",
      " dense (Dense)                  (None, 2048)         1050624     ['global_max_pooling2d[0][0]']   \n",
      "                                                                                                  \n",
      " dense_2 (Dense)                (None, 2048)         1050624     ['global_max_pooling2d_1[0][0]'] \n",
      "                                                                                                  \n",
      " dense_1 (Dense)                (None, 1)            2049        ['dense[0][0]']                  \n",
      "                                                                                                  \n",
      " dense_3 (Dense)                (None, 4)            8196        ['dense_2[0][0]']                \n",
      "                                                                                                  \n",
      "==================================================================================================\n",
      "Total params: 16,826,181\n",
      "Trainable params: 16,826,181\n",
      "Non-trainable params: 0\n",
      "__________________________________________________________________________________________________\n"
     ]
    }
   ],
   "source": [
    "facetracker = build_model()\n",
    "\n",
    "facetracker.summary()"
   ]
  },
  {
   "cell_type": "code",
   "execution_count": 57,
   "metadata": {},
   "outputs": [
    {
     "data": {
      "text/plain": [
       "(8, 120, 120, 3)"
      ]
     },
     "execution_count": 57,
     "metadata": {},
     "output_type": "execute_result"
    }
   ],
   "source": [
    "X, y = train.as_numpy_iterator().next()\n",
    "X.shape"
   ]
  },
  {
   "cell_type": "code",
   "execution_count": 59,
   "metadata": {},
   "outputs": [
    {
     "name": "stdout",
     "output_type": "stream",
     "text": [
      "1/1 [==============================] - 0s 16ms/step\n"
     ]
    },
    {
     "data": {
      "text/plain": [
       "(array([[0.5047153 ],\n",
       "        [0.5865984 ],\n",
       "        [0.44800746],\n",
       "        [0.56857115],\n",
       "        [0.5687237 ],\n",
       "        [0.47608608],\n",
       "        [0.48509568],\n",
       "        [0.6032403 ]], dtype=float32),\n",
       " array([[0.6776905 , 0.5104358 , 0.5455367 , 0.48616922],\n",
       "        [0.59167457, 0.39703757, 0.48335105, 0.4252255 ],\n",
       "        [0.6686212 , 0.5237302 , 0.5138301 , 0.43615538],\n",
       "        [0.62472045, 0.53399074, 0.5086854 , 0.45709953],\n",
       "        [0.5520417 , 0.46677294, 0.52163625, 0.5043961 ],\n",
       "        [0.69241685, 0.47457874, 0.5575399 , 0.48629904],\n",
       "        [0.6311384 , 0.5408095 , 0.55313367, 0.5275881 ],\n",
       "        [0.603303  , 0.42795712, 0.5850496 , 0.45710742]], dtype=float32))"
      ]
     },
     "execution_count": 59,
     "metadata": {},
     "output_type": "execute_result"
    }
   ],
   "source": [
    "classes, coords = facetracker.predict(X)\n",
    "classes, coords"
   ]
  },
  {
   "cell_type": "code",
   "execution_count": 60,
   "metadata": {},
   "outputs": [],
   "source": [
    "batches_per_epoch = len(train)\n",
    "lr_decay = (1./0.75 -1)/batches_per_epoch\n",
    "\n",
    "opt = tf.keras.optimizers.Adam(learning_rate=0.0001, decay=lr_decay)"
   ]
  },
  {
   "cell_type": "code",
   "execution_count": 61,
   "metadata": {},
   "outputs": [],
   "source": [
    "def localization_loss(y_true, yhat):            \n",
    "    delta_coord = tf.reduce_sum(tf.square(y_true[:,:2] - yhat[:,:2]))\n",
    "    h_true = y_true[:,3] - y_true[:,1] \n",
    "    w_true = y_true[:,2] - y_true[:,0] \n",
    "\n",
    "    h_pred = yhat[:,3] - yhat[:,1] \n",
    "    w_pred = yhat[:,2] - yhat[:,0] \n",
    "    \n",
    "    delta_size = tf.reduce_sum(tf.square(w_true - w_pred) + tf.square(h_true-h_pred))\n",
    "    \n",
    "    return delta_coord + delta_size\n",
    "\n",
    "classloss = tf.keras.losses.BinaryCrossentropy()\n",
    "regressloss = localization_loss"
   ]
  },
  {
   "cell_type": "code",
   "execution_count": 69,
   "metadata": {},
   "outputs": [
    {
     "data": {
      "text/plain": [
       "<tf.Tensor: shape=(), dtype=float32, numpy=5.162139>"
      ]
     },
     "execution_count": 69,
     "metadata": {},
     "output_type": "execute_result"
    }
   ],
   "source": [
    "localization_loss(y[1], coords)"
   ]
  },
  {
   "cell_type": "code",
   "execution_count": 70,
   "metadata": {},
   "outputs": [
    {
     "data": {
      "text/plain": [
       "<tf.Tensor: shape=(), dtype=float32, numpy=0.64001423>"
      ]
     },
     "execution_count": 70,
     "metadata": {},
     "output_type": "execute_result"
    }
   ],
   "source": [
    "classloss(y[0], classes)"
   ]
  },
  {
   "cell_type": "code",
   "execution_count": 71,
   "metadata": {},
   "outputs": [
    {
     "data": {
      "text/plain": [
       "<tf.Tensor: shape=(), dtype=float32, numpy=5.162139>"
      ]
     },
     "execution_count": 71,
     "metadata": {},
     "output_type": "execute_result"
    }
   ],
   "source": [
    "regressloss(y[1], coords)"
   ]
  },
  {
   "cell_type": "code",
   "execution_count": 62,
   "metadata": {},
   "outputs": [],
   "source": [
    "class FaceTracker(Model): \n",
    "    def __init__(self, eyetracker,  **kwargs): \n",
    "        super().__init__(**kwargs)\n",
    "        self.model = eyetracker\n",
    "\n",
    "    def compile(self, opt, classloss, localizationloss, **kwargs):\n",
    "        super().compile(**kwargs)\n",
    "        self.closs = classloss\n",
    "        self.lloss = localizationloss\n",
    "        self.opt = opt\n",
    "    \n",
    "    def train_step(self, batch, **kwargs): \n",
    "        \n",
    "        X, y = batch\n",
    "        \n",
    "        with tf.GradientTape() as tape: \n",
    "            classes, coords = self.model(X, training=True)\n",
    "            \n",
    "            batch_classloss = self.closs(y[0], classes)\n",
    "            batch_localizationloss = self.lloss(tf.cast(y[1], tf.float32), coords)\n",
    "            \n",
    "            total_loss = batch_localizationloss+0.5*batch_classloss\n",
    "            \n",
    "            grad = tape.gradient(total_loss, self.model.trainable_variables)\n",
    "        \n",
    "        opt.apply_gradients(zip(grad, self.model.trainable_variables))\n",
    "        \n",
    "        return {\"total_loss\":total_loss, \"class_loss\":batch_classloss, \"regress_loss\":batch_localizationloss}\n",
    "    \n",
    "    def test_step(self, batch, **kwargs): \n",
    "        X, y = batch\n",
    "        \n",
    "        classes, coords = self.model(X, training=False)\n",
    "        \n",
    "        batch_classloss = self.closs(y[0], classes)\n",
    "        batch_localizationloss = self.lloss(tf.cast(y[1], tf.float32), coords)\n",
    "        total_loss = batch_localizationloss+0.5*batch_classloss\n",
    "        \n",
    "        return {\"total_loss\":total_loss, \"class_loss\":batch_classloss, \"regress_loss\":batch_localizationloss}\n",
    "        \n",
    "    def call(self, X, **kwargs): \n",
    "        return self.model(X, **kwargs)"
   ]
  },
  {
   "cell_type": "code",
   "execution_count": 63,
   "metadata": {},
   "outputs": [],
   "source": [
    "model = FaceTracker(facetracker)\n",
    "model.compile(opt, classloss, regressloss)"
   ]
  },
  {
   "cell_type": "code",
   "execution_count": 72,
   "metadata": {},
   "outputs": [
    {
     "name": "stdout",
     "output_type": "stream",
     "text": [
      "Epoch 1/10\n",
      "330/330 [==============================] - 20s 53ms/step - total_loss: 3.8498e-04 - class_loss: 7.6081e-09 - regress_loss: 3.8497e-04 - val_total_loss: 12.9045 - val_class_loss: 15.2492 - val_regress_loss: 5.2799\n",
      "Epoch 2/10\n",
      "330/330 [==============================] - 20s 55ms/step - total_loss: 3.9101e-04 - class_loss: 7.1580e-09 - regress_loss: 3.9101e-04 - val_total_loss: 13.7524 - val_class_loss: 15.2492 - val_regress_loss: 6.1278\n",
      "Epoch 3/10\n",
      "330/330 [==============================] - 21s 58ms/step - total_loss: 3.9059e-04 - class_loss: 5.8974e-09 - regress_loss: 3.9059e-04 - val_total_loss: 13.4199 - val_class_loss: 15.2492 - val_regress_loss: 5.7953\n",
      "Epoch 4/10\n",
      "330/330 [==============================] - 22s 60ms/step - total_loss: 3.6897e-04 - class_loss: 5.9425e-09 - regress_loss: 3.6897e-04 - val_total_loss: 12.9291 - val_class_loss: 15.2492 - val_regress_loss: 5.3045\n",
      "Epoch 5/10\n",
      "330/330 [==============================] - 22s 61ms/step - total_loss: 3.8449e-04 - class_loss: 5.5373e-09 - regress_loss: 3.8448e-04 - val_total_loss: 12.7399 - val_class_loss: 15.2492 - val_regress_loss: 5.1153\n",
      "Epoch 6/10\n",
      "330/330 [==============================] - 22s 61ms/step - total_loss: 3.3002e-04 - class_loss: 5.1321e-09 - regress_loss: 3.3002e-04 - val_total_loss: 12.5427 - val_class_loss: 15.2492 - val_regress_loss: 4.9181\n",
      "Epoch 7/10\n",
      "330/330 [==============================] - 22s 61ms/step - total_loss: 2.8070e-04 - class_loss: 4.7270e-09 - regress_loss: 2.8070e-04 - val_total_loss: 13.5575 - val_class_loss: 15.2492 - val_regress_loss: 5.9329\n",
      "Epoch 8/10\n",
      "330/330 [==============================] - 23s 63ms/step - total_loss: 3.5769e-04 - class_loss: 4.0967e-09 - regress_loss: 3.5769e-04 - val_total_loss: 13.0553 - val_class_loss: 15.2492 - val_regress_loss: 5.4307\n",
      "Epoch 9/10\n",
      "330/330 [==============================] - 23s 62ms/step - total_loss: 3.4708e-04 - class_loss: 3.9166e-09 - regress_loss: 3.4708e-04 - val_total_loss: 13.3020 - val_class_loss: 15.2492 - val_regress_loss: 5.6774\n",
      "Epoch 10/10\n",
      "330/330 [==============================] - 23s 63ms/step - total_loss: 2.9503e-04 - class_loss: 3.3764e-09 - regress_loss: 2.9503e-04 - val_total_loss: 12.9915 - val_class_loss: 15.2492 - val_regress_loss: 5.3669\n"
     ]
    }
   ],
   "source": [
    "logdir='logs'\n",
    "tensorboard_callback = tf.keras.callbacks.TensorBoard(log_dir=logdir)\n",
    "hist = model.fit(train, epochs=10, validation_data=val, callbacks=[tensorboard_callback])"
   ]
  },
  {
   "cell_type": "code",
   "execution_count": null,
   "metadata": {},
   "outputs": [],
   "source": [
    "test_data = test.as_numpy_iterator()\n",
    "\n",
    "test_sample = test_data.next()\n",
    "\n",
    "yhat = facetracker.predict(test_sample[0])\n",
    "\n",
    "fig, ax = plt.subplots(ncols=4, figsize=(20,20))\n",
    "for idx in range(4): \n",
    "    sample_image = test_sample[0][idx]\n",
    "    sample_coords = yhat[1][idx]\n",
    "    \n",
    "    if yhat[0][idx] > 0.9:\n",
    "        cv2.rectangle(sample_image, \n",
    "                        tuple(np.multiply(sample_coords[:2], [120,120]).astype(int)),\n",
    "                        tuple(np.multiply(sample_coords[2:], [120,120]).astype(int)), \n",
    "                            (255,0,0), 2)\n",
    "    \n",
    "    ax[idx].imshow(sample_image)"
   ]
  },
  {
   "cell_type": "code",
   "execution_count": 79,
   "metadata": {},
   "outputs": [
    {
     "name": "stdout",
     "output_type": "stream",
     "text": [
      "1/1 [==============================] - 0s 341ms/step\n",
      "1/1 [==============================] - 0s 16ms/step\n",
      "1/1 [==============================] - 0s 16ms/step\n",
      "1/1 [==============================] - 0s 16ms/step\n",
      "1/1 [==============================] - 0s 17ms/step\n",
      "1/1 [==============================] - 0s 16ms/step\n",
      "1/1 [==============================] - 0s 14ms/step\n",
      "1/1 [==============================] - 0s 16ms/step\n",
      "1/1 [==============================] - 0s 16ms/step\n",
      "1/1 [==============================] - 0s 17ms/step\n",
      "1/1 [==============================] - 0s 15ms/step\n",
      "1/1 [==============================] - 0s 14ms/step\n",
      "1/1 [==============================] - 0s 15ms/step\n",
      "1/1 [==============================] - 0s 16ms/step\n",
      "1/1 [==============================] - 0s 15ms/step\n",
      "1/1 [==============================] - 0s 14ms/step\n",
      "1/1 [==============================] - 0s 17ms/step\n",
      "1/1 [==============================] - 0s 16ms/step\n",
      "1/1 [==============================] - 0s 15ms/step\n",
      "1/1 [==============================] - 0s 16ms/step\n",
      "1/1 [==============================] - 0s 15ms/step\n",
      "1/1 [==============================] - 0s 15ms/step\n",
      "1/1 [==============================] - 0s 15ms/step\n",
      "1/1 [==============================] - 0s 15ms/step\n",
      "1/1 [==============================] - 0s 15ms/step\n",
      "1/1 [==============================] - 0s 14ms/step\n",
      "1/1 [==============================] - 0s 15ms/step\n",
      "1/1 [==============================] - 0s 14ms/step\n",
      "1/1 [==============================] - 0s 15ms/step\n",
      "1/1 [==============================] - 0s 14ms/step\n",
      "1/1 [==============================] - 0s 14ms/step\n",
      "1/1 [==============================] - 0s 14ms/step\n",
      "1/1 [==============================] - 0s 15ms/step\n",
      "1/1 [==============================] - 0s 15ms/step\n",
      "1/1 [==============================] - 0s 15ms/step\n",
      "1/1 [==============================] - 0s 15ms/step\n",
      "1/1 [==============================] - 0s 16ms/step\n",
      "1/1 [==============================] - 0s 16ms/step\n",
      "1/1 [==============================] - 0s 16ms/step\n",
      "1/1 [==============================] - 0s 14ms/step\n",
      "1/1 [==============================] - 0s 15ms/step\n",
      "1/1 [==============================] - 0s 14ms/step\n",
      "1/1 [==============================] - 0s 15ms/step\n",
      "1/1 [==============================] - 0s 14ms/step\n",
      "1/1 [==============================] - 0s 15ms/step\n",
      "1/1 [==============================] - 0s 14ms/step\n",
      "1/1 [==============================] - 0s 17ms/step\n",
      "1/1 [==============================] - 0s 16ms/step\n",
      "1/1 [==============================] - 0s 16ms/step\n",
      "1/1 [==============================] - 0s 16ms/step\n",
      "1/1 [==============================] - 0s 15ms/step\n",
      "1/1 [==============================] - 0s 15ms/step\n",
      "1/1 [==============================] - 0s 17ms/step\n",
      "1/1 [==============================] - 0s 15ms/step\n",
      "1/1 [==============================] - 0s 15ms/step\n",
      "1/1 [==============================] - 0s 15ms/step\n",
      "1/1 [==============================] - 0s 15ms/step\n",
      "1/1 [==============================] - 0s 15ms/step\n",
      "1/1 [==============================] - 0s 16ms/step\n",
      "1/1 [==============================] - 0s 16ms/step\n",
      "1/1 [==============================] - 0s 16ms/step\n",
      "1/1 [==============================] - 0s 16ms/step\n",
      "1/1 [==============================] - 0s 15ms/step\n",
      "1/1 [==============================] - 0s 15ms/step\n",
      "1/1 [==============================] - 0s 16ms/step\n",
      "1/1 [==============================] - 0s 15ms/step\n",
      "1/1 [==============================] - 0s 14ms/step\n",
      "1/1 [==============================] - 0s 14ms/step\n",
      "1/1 [==============================] - 0s 14ms/step\n",
      "1/1 [==============================] - 0s 15ms/step\n",
      "1/1 [==============================] - 0s 14ms/step\n",
      "1/1 [==============================] - 0s 18ms/step\n",
      "1/1 [==============================] - 0s 16ms/step\n",
      "1/1 [==============================] - 0s 17ms/step\n",
      "1/1 [==============================] - 0s 15ms/step\n",
      "1/1 [==============================] - 0s 14ms/step\n",
      "1/1 [==============================] - 0s 15ms/step\n",
      "1/1 [==============================] - 0s 14ms/step\n",
      "1/1 [==============================] - 0s 14ms/step\n",
      "1/1 [==============================] - 0s 15ms/step\n",
      "1/1 [==============================] - 0s 14ms/step\n",
      "1/1 [==============================] - 0s 14ms/step\n",
      "1/1 [==============================] - 0s 14ms/step\n",
      "1/1 [==============================] - 0s 15ms/step\n",
      "1/1 [==============================] - 0s 17ms/step\n",
      "1/1 [==============================] - 0s 14ms/step\n",
      "1/1 [==============================] - 0s 14ms/step\n",
      "1/1 [==============================] - 0s 14ms/step\n",
      "1/1 [==============================] - 0s 15ms/step\n",
      "1/1 [==============================] - 0s 14ms/step\n",
      "1/1 [==============================] - 0s 15ms/step\n",
      "1/1 [==============================] - 0s 14ms/step\n",
      "1/1 [==============================] - 0s 14ms/step\n",
      "1/1 [==============================] - 0s 13ms/step\n",
      "1/1 [==============================] - 0s 14ms/step\n",
      "1/1 [==============================] - 0s 14ms/step\n",
      "1/1 [==============================] - 0s 15ms/step\n",
      "1/1 [==============================] - 0s 14ms/step\n",
      "1/1 [==============================] - 0s 14ms/step\n",
      "1/1 [==============================] - 0s 15ms/step\n",
      "1/1 [==============================] - 0s 15ms/step\n",
      "1/1 [==============================] - 0s 14ms/step\n",
      "1/1 [==============================] - 0s 14ms/step\n",
      "1/1 [==============================] - 0s 14ms/step\n",
      "1/1 [==============================] - 0s 14ms/step\n",
      "1/1 [==============================] - 0s 14ms/step\n",
      "1/1 [==============================] - 0s 15ms/step\n",
      "1/1 [==============================] - 0s 14ms/step\n",
      "1/1 [==============================] - 0s 14ms/step\n",
      "1/1 [==============================] - 0s 13ms/step\n",
      "1/1 [==============================] - 0s 13ms/step\n",
      "1/1 [==============================] - 0s 14ms/step\n",
      "1/1 [==============================] - 0s 14ms/step\n",
      "1/1 [==============================] - 0s 14ms/step\n",
      "1/1 [==============================] - 0s 15ms/step\n",
      "1/1 [==============================] - 0s 15ms/step\n",
      "1/1 [==============================] - 0s 17ms/step\n",
      "1/1 [==============================] - 0s 14ms/step\n",
      "1/1 [==============================] - 0s 14ms/step\n",
      "1/1 [==============================] - 0s 14ms/step\n",
      "1/1 [==============================] - 0s 15ms/step\n",
      "1/1 [==============================] - 0s 14ms/step\n",
      "1/1 [==============================] - 0s 14ms/step\n",
      "1/1 [==============================] - 0s 16ms/step\n",
      "1/1 [==============================] - 0s 14ms/step\n",
      "1/1 [==============================] - 0s 14ms/step\n",
      "1/1 [==============================] - 0s 15ms/step\n",
      "1/1 [==============================] - 0s 15ms/step\n",
      "1/1 [==============================] - 0s 15ms/step\n",
      "1/1 [==============================] - 0s 15ms/step\n",
      "1/1 [==============================] - 0s 17ms/step\n",
      "1/1 [==============================] - 0s 14ms/step\n",
      "1/1 [==============================] - 0s 14ms/step\n",
      "1/1 [==============================] - 0s 14ms/step\n",
      "1/1 [==============================] - 0s 13ms/step\n",
      "1/1 [==============================] - 0s 14ms/step\n",
      "1/1 [==============================] - 0s 14ms/step\n",
      "1/1 [==============================] - 0s 15ms/step\n",
      "1/1 [==============================] - 0s 14ms/step\n",
      "1/1 [==============================] - 0s 14ms/step\n",
      "1/1 [==============================] - 0s 14ms/step\n",
      "1/1 [==============================] - 0s 15ms/step\n",
      "1/1 [==============================] - 0s 14ms/step\n",
      "1/1 [==============================] - 0s 14ms/step\n",
      "1/1 [==============================] - 0s 16ms/step\n",
      "1/1 [==============================] - 0s 16ms/step\n",
      "1/1 [==============================] - 0s 15ms/step\n",
      "1/1 [==============================] - 0s 14ms/step\n",
      "1/1 [==============================] - 0s 15ms/step\n",
      "1/1 [==============================] - 0s 13ms/step\n",
      "1/1 [==============================] - 0s 14ms/step\n",
      "1/1 [==============================] - 0s 14ms/step\n",
      "1/1 [==============================] - 0s 14ms/step\n",
      "1/1 [==============================] - 0s 14ms/step\n",
      "1/1 [==============================] - 0s 16ms/step\n",
      "1/1 [==============================] - 0s 14ms/step\n",
      "1/1 [==============================] - 0s 14ms/step\n",
      "1/1 [==============================] - 0s 17ms/step\n",
      "1/1 [==============================] - 0s 15ms/step\n",
      "1/1 [==============================] - 0s 14ms/step\n",
      "1/1 [==============================] - 0s 14ms/step\n",
      "1/1 [==============================] - 0s 14ms/step\n",
      "1/1 [==============================] - 0s 15ms/step\n",
      "1/1 [==============================] - 0s 15ms/step\n",
      "1/1 [==============================] - 0s 14ms/step\n",
      "1/1 [==============================] - 0s 15ms/step\n",
      "1/1 [==============================] - 0s 14ms/step\n",
      "1/1 [==============================] - 0s 13ms/step\n",
      "1/1 [==============================] - 0s 14ms/step\n",
      "1/1 [==============================] - 0s 13ms/step\n",
      "1/1 [==============================] - 0s 14ms/step\n",
      "1/1 [==============================] - 0s 14ms/step\n",
      "1/1 [==============================] - 0s 14ms/step\n",
      "1/1 [==============================] - 0s 16ms/step\n",
      "1/1 [==============================] - 0s 14ms/step\n",
      "1/1 [==============================] - 0s 13ms/step\n",
      "1/1 [==============================] - 0s 14ms/step\n",
      "1/1 [==============================] - 0s 14ms/step\n",
      "1/1 [==============================] - 0s 14ms/step\n",
      "1/1 [==============================] - 0s 14ms/step\n",
      "1/1 [==============================] - 0s 13ms/step\n",
      "1/1 [==============================] - 0s 15ms/step\n",
      "1/1 [==============================] - 0s 14ms/step\n",
      "1/1 [==============================] - 0s 14ms/step\n",
      "1/1 [==============================] - 0s 14ms/step\n",
      "1/1 [==============================] - 0s 15ms/step\n",
      "1/1 [==============================] - 0s 18ms/step\n",
      "1/1 [==============================] - 0s 14ms/step\n",
      "1/1 [==============================] - 0s 14ms/step\n",
      "1/1 [==============================] - 0s 14ms/step\n",
      "1/1 [==============================] - 0s 14ms/step\n",
      "1/1 [==============================] - 0s 14ms/step\n",
      "1/1 [==============================] - 0s 14ms/step\n",
      "1/1 [==============================] - 0s 14ms/step\n",
      "1/1 [==============================] - 0s 14ms/step\n",
      "1/1 [==============================] - 0s 20ms/step\n",
      "1/1 [==============================] - 0s 15ms/step\n",
      "1/1 [==============================] - 0s 14ms/step\n",
      "1/1 [==============================] - 0s 13ms/step\n",
      "1/1 [==============================] - 0s 14ms/step\n",
      "1/1 [==============================] - 0s 15ms/step\n",
      "1/1 [==============================] - 0s 14ms/step\n",
      "1/1 [==============================] - 0s 14ms/step\n",
      "1/1 [==============================] - 0s 14ms/step\n",
      "1/1 [==============================] - 0s 14ms/step\n",
      "1/1 [==============================] - 0s 23ms/step\n",
      "1/1 [==============================] - 0s 20ms/step\n",
      "1/1 [==============================] - 0s 16ms/step\n",
      "1/1 [==============================] - 0s 17ms/step\n",
      "1/1 [==============================] - 0s 16ms/step\n",
      "1/1 [==============================] - 0s 17ms/step\n",
      "1/1 [==============================] - 0s 21ms/step\n",
      "1/1 [==============================] - 0s 18ms/step\n",
      "1/1 [==============================] - 0s 18ms/step\n",
      "1/1 [==============================] - 0s 17ms/step\n",
      "1/1 [==============================] - 0s 17ms/step\n",
      "1/1 [==============================] - 0s 16ms/step\n",
      "1/1 [==============================] - 0s 16ms/step\n",
      "1/1 [==============================] - 0s 15ms/step\n",
      "1/1 [==============================] - 0s 15ms/step\n",
      "1/1 [==============================] - 0s 22ms/step\n",
      "1/1 [==============================] - 0s 16ms/step\n",
      "1/1 [==============================] - 0s 15ms/step\n",
      "1/1 [==============================] - 0s 17ms/step\n",
      "1/1 [==============================] - 0s 15ms/step\n",
      "1/1 [==============================] - 0s 16ms/step\n",
      "1/1 [==============================] - 0s 16ms/step\n",
      "1/1 [==============================] - 0s 15ms/step\n",
      "1/1 [==============================] - 0s 16ms/step\n",
      "1/1 [==============================] - 0s 16ms/step\n"
     ]
    }
   ],
   "source": [
    "cap = cv2.VideoCapture(0)\n",
    "while cap.isOpened():\n",
    "    _ , frame = cap.read()\n",
    "    frame = frame[50:500, 50:500,:]\n",
    "    \n",
    "    rgb = cv2.cvtColor(frame, cv2.COLOR_BGR2RGB)\n",
    "    resized = tf.image.resize(rgb, (120,120))\n",
    "    \n",
    "    yhat = facetracker.predict(np.expand_dims(resized/255,0))\n",
    "    sample_coords = yhat[1][0]\n",
    "    \n",
    "    if yhat[0] > 0.5: \n",
    "        # Controls the main rectangle\n",
    "        cv2.rectangle(frame, \n",
    "                      tuple(np.multiply(sample_coords[:2], [450,450]).astype(int)),\n",
    "                      tuple(np.multiply(sample_coords[2:], [450,450]).astype(int)), \n",
    "                            (255,0,0), 2)\n",
    "        # Controls the label rectangle\n",
    "        cv2.rectangle(frame, \n",
    "                      tuple(np.add(np.multiply(sample_coords[:2], [450,450]).astype(int), \n",
    "                                    [0,-30])),\n",
    "                      tuple(np.add(np.multiply(sample_coords[:2], [450,450]).astype(int),\n",
    "                                    [80,0])), \n",
    "                            (255,0,0), -1)\n",
    "        \n",
    "        # Controls the text rendered\n",
    "        cv2.putText(frame, 'face', tuple(np.add(np.multiply(sample_coords[:2], [450,450]).astype(int),\n",
    "                                               [0,-5])),\n",
    "                    cv2.FONT_HERSHEY_SIMPLEX, 1, (255,255,255), 2, cv2.LINE_AA)\n",
    "    \n",
    "    cv2.imshow('EyeTrack', frame)\n",
    "    \n",
    "    if cv2.waitKey(1) & 0xFF == ord('q'):\n",
    "        break\n",
    "cap.release()\n",
    "cv2.destroyAllWindows()"
   ]
  },
  {
   "cell_type": "code",
   "execution_count": 80,
   "metadata": {},
   "outputs": [
    {
     "name": "stdout",
     "output_type": "stream",
     "text": [
      "WARNING:tensorflow:Compiled the loaded model, but the compiled metrics have yet to be built. `model.compile_metrics` will be empty until you train or evaluate the model.\n",
      "WARNING:tensorflow:No training configuration found in the save file, so the model was *not* compiled. Compile it manually.\n"
     ]
    }
   ],
   "source": [
    "from tensorflow.keras.models import load_model\n",
    "\n",
    "facetracker.save('facetracker.h5')\n",
    "facetracker = load_model('facetracker.h5')"
   ]
  },
  {
   "cell_type": "code",
   "execution_count": null,
   "metadata": {},
   "outputs": [],
   "source": []
  }
 ],
 "metadata": {
  "kernelspec": {
   "display_name": "Python 3.9.0 64-bit",
   "language": "python",
   "name": "python3"
  },
  "language_info": {
   "codemirror_mode": {
    "name": "ipython",
    "version": 3
   },
   "file_extension": ".py",
   "mimetype": "text/x-python",
   "name": "python",
   "nbconvert_exporter": "python",
   "pygments_lexer": "ipython3",
   "version": "3.9.0"
  },
  "orig_nbformat": 4,
  "vscode": {
   "interpreter": {
    "hash": "a7cd1a3a91448925d52e40248ab3fc9222a58eec32dc182ec3aef8fbd589352c"
   }
  }
 },
 "nbformat": 4,
 "nbformat_minor": 2
}
