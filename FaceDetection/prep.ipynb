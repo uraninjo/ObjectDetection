{
 "cells": [
  {
   "cell_type": "code",
   "execution_count": null,
   "metadata": {},
   "outputs": [],
   "source": [
    "import os \n",
    "os.mkdir('data')\n",
    "os.mkdir('data/images')\n",
    "os.mkdir('data/images/images')\n",
    "os.mkdir('data/labels')\n",
    "\n",
    "\n",
    "os.mkdir('aug_data')\n",
    "\n",
    "os.mkdir('aug_data/test')\n",
    "os.mkdir('aug_data/test/images')\n",
    "os.mkdir('aug_data/test/labels')\n",
    "\n",
    "os.mkdir('aug_data/train')\n",
    "os.mkdir('aug_data/train/images')\n",
    "os.mkdir('aug_data/train/labels')\n",
    "\n",
    "os.mkdir('aug_data/val')\n",
    "os.mkdir('aug_data/val/images')\n",
    "os.mkdir('aug_data/val/labels')"
   ]
  }
 ],
 "metadata": {
  "language_info": {
   "name": "python"
  },
  "orig_nbformat": 4
 },
 "nbformat": 4,
 "nbformat_minor": 2
}
